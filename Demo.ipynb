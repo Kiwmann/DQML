{
 "cells": [
  {
   "cell_type": "code",
   "execution_count": 1,
   "metadata": {},
   "outputs": [
    {
     "name": "stdout",
     "output_type": "stream",
     "text": [
      "( 0 ) loss: 1.01 accuracy: 0.45\n"
     ]
    }
   ],
   "source": [
    "from DQML import Run\n",
    "import pickle\n",
    "\n",
    "with open('Dataset1', 'rb') as f:\n",
    "    X=pickle.load(f)\n",
    "Run.run_DQML('CCDQML',3,X,1,100)\n",
    "\n",
    "#run_DQML(scheme,depth,dataset,repetition of whole training process,training_iteration)\n",
    "#DQML Scheme ('non_DQML','QCDQML_1m','QCDQML_nonbiased','QCDQML,'CCDQML','NCDQML')\n",
    "#QCDQML_nonbiased: single measure QCDQML_1m: single measure with bias QCDQML: double measure with bias"
   ]
  },
  {
   "cell_type": "code",
   "execution_count": null,
   "metadata": {},
   "outputs": [],
   "source": []
  }
 ],
 "metadata": {
  "kernelspec": {
   "display_name": "Quantum",
   "language": "python",
   "name": "python3"
  },
  "language_info": {
   "codemirror_mode": {
    "name": "ipython",
    "version": 3
   },
   "file_extension": ".py",
   "mimetype": "text/x-python",
   "name": "python",
   "nbconvert_exporter": "python",
   "pygments_lexer": "ipython3",
   "version": "3.11.7"
  }
 },
 "nbformat": 4,
 "nbformat_minor": 2
}
