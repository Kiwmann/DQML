{
 "cells": [
  {
   "cell_type": "markdown",
   "metadata": {},
   "source": [
    "This code creates dataset mentioned on the paper"
   ]
  },
  {
   "cell_type": "code",
   "execution_count": 1,
   "metadata": {},
   "outputs": [],
   "source": [
    "from itertools import product\n",
    "import matplotlib.pyplot as plt\n",
    "import pandas as pd\n",
    "import random\n",
    "import pickle\n",
    "import pennylane \n",
    "from pennylane import numpy as np\n",
    "pi=np.pi"
   ]
  },
  {
   "cell_type": "code",
   "execution_count": 2,
   "metadata": {},
   "outputs": [],
   "source": [
    "num_data=2048\n",
    "data_dim=8"
   ]
  },
  {
   "cell_type": "code",
   "execution_count": 3,
   "metadata": {},
   "outputs": [],
   "source": [
    "full_list=list(range(256))\n",
    "selection=random.sample(full_list,32)\n",
    "label_selection=random.sample(selection,16)"
   ]
  },
  {
   "cell_type": "code",
   "execution_count": 4,
   "metadata": {},
   "outputs": [],
   "source": [
    "def dim8ClusterData(num_data):\n",
    "    if num_data!=2048:\n",
    "        return 0\n",
    "    count=0\n",
    "    data=[]\n",
    "    label=[]\n",
    "    spheredata=[]\n",
    "    while count<num_data:\n",
    "        tmp_data=(pi/2)*np.random.rand(8)-(pi/4)\n",
    "        squared=0\n",
    "        for i in tmp_data:\n",
    "            squared+=i**2\n",
    "        if squared<(pi/4)**2:\n",
    "            spheredata.append(tmp_data)\n",
    "            count+=1\n",
    "\n",
    "    a=[-pi/4,pi/4]\n",
    "    permute=np.array(list(product(a,repeat=8)))\n",
    "    for i in range(32):\n",
    "        ori_data=spheredata[i*64:(i+1)*64]\n",
    "        for j in ori_data:\n",
    "            tmp_data=j-permute[selection[i]]\n",
    "            data.append(tmp_data)\n",
    "            if selection[i] in label_selection:\n",
    "                label.append(1)\n",
    "            else:\n",
    "                label.append(-1)\n",
    "\n",
    "    data=np.array(data)\n",
    "    data.requires_grad=False\n",
    "    label=np.array(label)\n",
    "    label.requires_grad=False\n",
    "    return data,label"
   ]
  },
  {
   "cell_type": "code",
   "execution_count": 5,
   "metadata": {},
   "outputs": [],
   "source": [
    "def dim8ClusterData_lined(num_data):\n",
    "    if num_data!=2048:\n",
    "        return 0\n",
    "    count=0\n",
    "    data=[]\n",
    "    data1=[]\n",
    "    data2=[]\n",
    "    label=[]\n",
    "    spheredata=[]\n",
    "    while count<num_data:\n",
    "        tmp_data=(pi/2)*np.random.rand(8)-(pi/4)\n",
    "        squared=0\n",
    "        for i in tmp_data:\n",
    "            squared+=i**2\n",
    "        if squared<(pi/4)**2:\n",
    "            spheredata.append(tmp_data)\n",
    "            count+=1\n",
    "    print(count)\n",
    "    a=[-pi/4,pi/4]\n",
    "    permute=np.array(list(product(a,repeat=8)))\n",
    "    for i in range(32):\n",
    "        ori_data=spheredata[i*64:(i+1)*64]\n",
    "        print(i)\n",
    "        for j in ori_data:\n",
    "            tmp_data=j-permute[selection[i]]\n",
    "            if selection[i] in label_selection:\n",
    "                data1.append(tmp_data)\n",
    "                label.append(1)\n",
    "                print(len(data1))\n",
    "            else:\n",
    "                data2.append(tmp_data)\n",
    "                label.append(-1)\n",
    "                print(len(data2))\n",
    "    data.append(data1)\n",
    "    data.append(data2)\n",
    "    data=np.array(data)\n",
    "    data.requires_grad=False\n",
    "    label=np.array(label)\n",
    "    label.requires_grad=False\n",
    "    return data,label"
   ]
  },
  {
   "cell_type": "code",
   "execution_count": 6,
   "metadata": {},
   "outputs": [],
   "source": [
    "def Cluster_dataset(num_data,data_dim):\n",
    "    if data_dim==8:\n",
    "        data,Y=dim8ClusterData(num_data)\n",
    "    num_data = len(Y)\n",
    "    num_train = int(1536)\n",
    "    index = np.random.permutation(range(num_data))\n",
    "    feats_train = data[index[:num_train]]\n",
    "    Y_train = Y[index[:num_train]]\n",
    "    feats_val = data[index[num_train:]]\n",
    "    Y_val = Y[index[num_train:]]\n",
    "    train_validation_set=[feats_train,Y_train,feats_val,Y_val,num_train]\n",
    "    return train_validation_set"
   ]
  },
  {
   "cell_type": "code",
   "execution_count": 7,
   "metadata": {},
   "outputs": [],
   "source": [
    "Data=Cluster_dataset(num_data,data_dim)"
   ]
  },
  {
   "cell_type": "code",
   "execution_count": 8,
   "metadata": {},
   "outputs": [],
   "source": [
    "with open('Dataset3', 'wb') as f:\n",
    "    pickle.dump(Data, f)"
   ]
  }
 ],
 "metadata": {
  "kernelspec": {
   "display_name": "QuantumSimulation",
   "language": "python",
   "name": "python3"
  },
  "language_info": {
   "codemirror_mode": {
    "name": "ipython",
    "version": 3
   },
   "file_extension": ".py",
   "mimetype": "text/x-python",
   "name": "python",
   "nbconvert_exporter": "python",
   "pygments_lexer": "ipython3",
   "version": "3.8.13"
  },
  "orig_nbformat": 4
 },
 "nbformat": 4,
 "nbformat_minor": 2
}
